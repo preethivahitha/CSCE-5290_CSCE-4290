{
 "cells": [
  {
   "cell_type": "markdown",
   "id": "junior-valve",
   "metadata": {},
   "source": [
    "Linear (in x) model\n",
    "\n",
    "$ $$y^p$$ = m $$x$$ + b $, results in the following error\n",
    "\n",
    "$e(m, b)=\\sum_{i=0}^{n-1} ($$y^t_i$$ -m $$x_i$$ -b)^2$ <br>\n"
   ]
  },
  {
   "cell_type": "markdown",
   "id": "brutal-dancing",
   "metadata": {},
   "source": [
    "Non-linear (in x) model\n",
    "\n",
    "$ $$y^p$$ = r $$x^3$$ + s $$x^2$$  + m $$x$$ +b $, results in the following loss\n",
    "\n",
    "$e(r, s, m, b)=\\sum_{i=0}^{n-1} ($$y^t_i$$ -r \\space $$x^3_i$$ -s \\space $$x^2_i$$ -m \\space $$x_i$$ -b)^2$ <br>\n"
   ]
  },
  {
   "cell_type": "markdown",
   "id": "adverse-trial",
   "metadata": {},
   "source": [
    "$r, s, m$ and $b$ are constants. Superscript integers represent powers (exponentiation).\n",
    "\n",
    "Note that $ $$y^p$$ $ is still $\\underline {linear} $ in $r, s, m$ and $b$."
   ]
  },
  {
   "cell_type": "markdown",
   "id": "circular-california",
   "metadata": {},
   "source": [
    "$\\frac{\\partial e}{\\partial m}$ <br>\n",
    "\n",
    "\n",
    "= $\\frac {\\partial } {\\partial m} ( \\sum_{i=0}^{n-1} (y^t_i  -r \\space $$x^3_i$$ -s \\space $$x^2_i$$ -m \\space $$x_i$$ -b)^2 ) $\n",
    "\n",
    "\n",
    "$ = \\sum_{i=0}^{n-1} \\frac {\\partial (y^t_i -r \\space x^3_i -s \\space x^2_i -m \\space x_i -b)^2 } {\\partial m} $ <br>\n",
    "\n",
    "$ = \\sum_{i=0}^{n-1} 2(y^t_i -r \\space x^3_i -s \\space x^2_i -m \\space x_i -b) \\frac {\\partial (y^t_i -r \\space x^3_i -s \\space x^2_i -m \\space x_i -b) } {\\partial m} $ <br>\n",
    "\n",
    "\n",
    "$ = \\sum_{i=0}^{n-1} 2(y^t_i -r \\space x^3_i -s \\space x^2_i -m \\space x_i -b) (-x_i) $ <br>\n",
    "\n",
    "$ = -2 \\sum_{i=0}^{n-1}e_ix_i$\n",
    "\n",
    "where $ e_i = (y^t_i -r \\space x^3_i -s \\space x^2_i -m \\space x_i -b)$. Using the bar notation, where bar means average,\n",
    "\n",
    "$\\frac{1}{n} \\frac{\\partial e}{\\partial m} = -2 \\overline {ex} $. &emsp; &emsp;  &emsp; &emsp; &emsp; &emsp;  &emsp; &emsp;  &nbsp; $(1)$<br>\n",
    "\n",
    "Similarly, we can derive\n",
    "\n",
    "$\\frac{1}{n} \\frac{\\partial e}{\\partial b} = -2 \\overline {e} $, &emsp; &emsp;  &emsp; &emsp; &emsp; &emsp;  &emsp; &emsp;  &emsp; $(2)$\n",
    "\n",
    "$\\frac{1}{n} \\frac{\\partial e}{\\partial r} = -2 \\overline {ex^3} $, &emsp; &emsp;  &emsp; &emsp; &emsp; &emsp;  &emsp; &emsp;  $(3)$\n",
    "\n",
    "and\n",
    "\n",
    "$\\frac{1}{n} \\frac{\\partial e}{\\partial s} = -2 \\overline {ex^2} $. &emsp; &emsp;  &emsp; &emsp; &emsp; &emsp;  &emsp; &emsp;  $(4)$\n"
   ]
  },
  {
   "cell_type": "markdown",
   "id": "sought-favorite",
   "metadata": {},
   "source": [
    "Assume initial values for $m, b, r$ and $s$. Then iterate using,\n",
    "\n",
    "$m = m - C \\frac{\\partial e}{\\partial m}$\n",
    "\n",
    "$b = b - C \\frac{\\partial e}{\\partial b}$\n",
    "\n",
    "$r = r - C \\frac{\\partial e}{\\partial r}$\n",
    "\n",
    "$s = s - C \\frac{\\partial e}{\\partial s}$"
   ]
  },
  {
   "cell_type": "code",
   "execution_count": 1,
   "id": "acquired-limitation",
   "metadata": {},
   "outputs": [],
   "source": [
    "import numpy as np\n",
    "import pandas as pd\n",
    "import torch\n",
    "import matplotlib.pyplot as plt\n",
    "import math\n",
    "from torch import nn\n",
    "from torch import Tensor"
   ]
  },
  {
   "cell_type": "code",
   "execution_count": 2,
   "id": "failing-iceland",
   "metadata": {},
   "outputs": [
    {
     "name": "stdout",
     "output_type": "stream",
     "text": [
      "-5.675305481334444 5.563812220118603\n",
      "0.0 1.0\n"
     ]
    }
   ],
   "source": [
    "x, y = np.loadtxt('data.txt')\n",
    "xS = 12*x-6\n",
    "print(xS.min(), xS.max())\n",
    "df = pd.DataFrame({\"x\": x, \"y_true\": y})\n",
    "noise = np.random.normal(0, 0.05, len(df))\n",
    "df['y_true'] = 2*df['x']*df['x']*df['x'] + 0.5*df['x'] + 5 + noise\n",
    "df['x3'] = df['x']*df['x']*df['x']\n",
    "df['x2'] = df['x']*df['x']\n",
    "df['x0'] = np.ones(len(df))\n",
    "df['xS'] = xS\n",
    "yt_min = df.y_true.min()\n",
    "yt_range = df.y_true.max() - yt_min\n",
    "df['y_true'] = (df['y_true'] - yt_min)/yt_range\n",
    "print(df.y_true.min(), df.y_true.max())"
   ]
  },
  {
   "cell_type": "code",
   "execution_count": 3,
   "id": "minute-brave",
   "metadata": {},
   "outputs": [],
   "source": [
    "# tx = torch.tensor(df[['x3','x2','x', 'x0']].to_numpy())\n",
    "#tx = torch.tensor(df[['xS', 'x0']].to_numpy())\n",
    "tx = torch.tensor(df[['x']].to_numpy())\n",
    "y_true = torch.tensor(df['y_true'].to_numpy(), dtype=torch.float).unsqueeze(1)"
   ]
  },
  {
   "cell_type": "code",
   "execution_count": 4,
   "id": "moved-television",
   "metadata": {},
   "outputs": [],
   "source": [
    "C=0.1"
   ]
  },
  {
   "cell_type": "code",
   "execution_count": 5,
   "id": "unknown-workshop",
   "metadata": {},
   "outputs": [],
   "source": [
    "class LinearModel(nn.Module):\n",
    "    def __init__(self):\n",
    "        super(LinearModel, self).__init__()\n",
    "        self.lin = nn.Sequential(\n",
    "            nn.Linear(1, 4),\n",
    "            nn.ReLU(),\n",
    "            nn.Linear(4, 4),\n",
    "            nn.ReLU(),\n",
    "            nn.Linear(4, 1),\n",
    "            nn.Sigmoid()\n",
    "        )\n",
    "        \n",
    "    def forward(self, input: Tensor) -> Tensor:\n",
    "        input = input.float()\n",
    "        return self.lin(input)\n"
   ]
  },
  {
   "cell_type": "code",
   "execution_count": 6,
   "id": "greenhouse-rwanda",
   "metadata": {},
   "outputs": [],
   "source": [
    "# def loss_fn(y_pred, y_true):\n",
    "#     e = y_pred - y_true\n",
    "#     return (e*e).mean()\n",
    "loss_fn = nn.MSELoss()"
   ]
  },
  {
   "cell_type": "code",
   "execution_count": 7,
   "id": "sustainable-tennessee",
   "metadata": {},
   "outputs": [
    {
     "name": "stdout",
     "output_type": "stream",
     "text": [
      "pm before:  Parameter containing:\n",
      "tensor([[0.4328],\n",
      "        [0.3475],\n",
      "        [0.9688],\n",
      "        [0.5333]], requires_grad=True) None\n",
      "pm before:  Parameter containing:\n",
      "tensor([0.7166, 0.6123, 0.4462, 0.1741], requires_grad=True) None\n",
      "pm before:  Parameter containing:\n",
      "tensor([[-0.4380, -0.2316,  0.2196,  0.3195],\n",
      "        [ 0.0466,  0.3804,  0.1302,  0.0289],\n",
      "        [-0.1480,  0.4782, -0.1461, -0.1505],\n",
      "        [-0.0431, -0.1077,  0.3316,  0.3111]], requires_grad=True) None\n",
      "pm before:  Parameter containing:\n",
      "tensor([ 0.4676, -0.1799,  0.1378, -0.1362], requires_grad=True) None\n",
      "pm before:  Parameter containing:\n",
      "tensor([[ 0.3147,  0.0425, -0.4035,  0.0337]], requires_grad=True) None\n",
      "pm before:  Parameter containing:\n",
      "tensor([0.1380], requires_grad=True) None\n",
      "iter, loss:  0 tensor(0.1365, grad_fn=<MseLossBackward0>)\n",
      "iter, loss:  500 tensor(0.0107, grad_fn=<MseLossBackward0>)\n",
      "iter, loss:  1000 tensor(0.0023, grad_fn=<MseLossBackward0>)\n",
      "iter, loss:  1500 tensor(0.0021, grad_fn=<MseLossBackward0>)\n",
      "iter, loss:  2000 tensor(0.0021, grad_fn=<MseLossBackward0>)\n",
      "iter, loss:  2500 tensor(0.0021, grad_fn=<MseLossBackward0>)\n",
      "iter, loss:  3000 tensor(0.0021, grad_fn=<MseLossBackward0>)\n",
      "iter, loss:  3500 tensor(0.0021, grad_fn=<MseLossBackward0>)\n",
      "iter, loss:  4000 tensor(0.0021, grad_fn=<MseLossBackward0>)\n",
      "iter, loss:  4500 tensor(0.0021, grad_fn=<MseLossBackward0>)\n",
      "iter, loss:  5000 tensor(0.0021, grad_fn=<MseLossBackward0>)\n",
      "pm after:  Parameter containing:\n",
      "tensor([[ 0.2432],\n",
      "        [-0.2940],\n",
      "        [ 1.5905],\n",
      "        [ 1.1120]], requires_grad=True) tensor([[-8.2570e-07],\n",
      "        [ 2.5341e-06],\n",
      "        [ 1.3361e-06],\n",
      "        [ 5.1979e-07]])\n",
      "pm after:  Parameter containing:\n",
      "tensor([ 0.7801,  1.1402,  0.0949, -0.1321], requires_grad=True) tensor([ 2.4110e-07, -5.2080e-06,  1.4780e-06, -2.7370e-05])\n",
      "pm after:  Parameter containing:\n",
      "tensor([[-0.4096, -0.3459,  0.6908,  0.6446],\n",
      "        [ 0.0417,  0.3543,  0.1837,  0.0684],\n",
      "        [ 0.1245,  1.0266, -0.7581, -0.6433],\n",
      "        [ 0.0131, -0.1725,  0.7160,  0.5723]], requires_grad=True) tensor([[-1.2090e-06, -3.9602e-06,  5.1228e-06,  4.0983e-06],\n",
      "        [ 2.9204e-07,  6.2538e-07, -4.4156e-07, -7.3131e-08],\n",
      "        [-4.0570e-06, -8.6871e-06,  6.1351e-06,  1.0158e-06],\n",
      "        [-1.1398e-06, -3.7329e-06,  4.8290e-06,  3.8632e-06]])\n",
      "pm after:  Parameter containing:\n",
      "tensor([ 0.3052, -0.2070,  0.8326, -0.1993], requires_grad=True) tensor([-2.6028e-06,  4.6956e-07, -6.5239e-06, -2.4533e-06])\n",
      "pm after:  Parameter containing:\n",
      "tensor([[ 0.8703,  0.1160, -1.6122,  0.8203]], requires_grad=True) tensor([[8.3331e-06, 4.3420e-07, 1.2505e-05, 8.2738e-06]])\n",
      "pm after:  Parameter containing:\n",
      "tensor([-0.6776], requires_grad=True) tensor([4.0468e-06])\n",
      "loss after:  tensor(0.0021, grad_fn=<MseLossBackward0>)\n"
     ]
    }
   ],
   "source": [
    "#print('pm before: ', pm1, pm2)\n",
    "y_pred = None\n",
    "loss = None\n",
    "lm = LinearModel()\n",
    "#lm = lm.double()\n",
    "optimizer = torch.optim.SGD(lm.parameters(), lr=C)\n",
    "for p in lm.parameters():\n",
    "    print('pm before: ', p, p.grad)\n",
    "for iter in range(5001):\n",
    "    #y_pred = forward(tx, pm1, pm2)\n",
    "    y_pred = lm(tx)\n",
    "    loss = loss_fn(y_pred, y_true)\n",
    "    if iter%500 == 0:\n",
    "        print('iter, loss: ', iter, loss)\n",
    "    optimizer.zero_grad()\n",
    "    loss.backward()\n",
    "    optimizer.step()\n",
    "\n",
    "#print('pm after: ', pm1, pm2)\n",
    "for p in lm.parameters():\n",
    "    print('pm after: ', p, p.grad)\n",
    "print('loss after: ', loss)"
   ]
  },
  {
   "cell_type": "code",
   "execution_count": 8,
   "id": "egyptian-cache",
   "metadata": {},
   "outputs": [],
   "source": [
    "df['y_pred'] = y_pred.detach().numpy()"
   ]
  },
  {
   "cell_type": "code",
   "execution_count": 9,
   "id": "numerical-mystery",
   "metadata": {},
   "outputs": [
    {
     "data": {
      "text/plain": [
       "<AxesSubplot: xlabel='x'>"
      ]
     },
     "execution_count": 9,
     "metadata": {},
     "output_type": "execute_result"
    },
    {
     "data": {
      "image/png": "[encoded data removed]",
      "text/plain": [
       "<Figure size 640x480 with 1 Axes>"
      ]
     },
     "metadata": {},
     "output_type": "display_data"
    }
   ],
   "source": [
    "df.sort_values('x').plot(x=\"x\", y=[\"y_true\", \"y_pred\"], style=['o','-'])"
   ]
  },
  {
   "cell_type": "markdown",
   "id": "0f71c93a",
   "metadata": {},
   "source": [
    "# Project 3"
   ]
  },
  {
   "cell_type": "markdown",
   "id": "2402055b",
   "metadata": {},
   "source": [
    "## Description:\n",
    "To analyze and categorize tweets, a technique called Bag-of-Words (BoW) can be used to convert the tweets into numerical features. The process involves first cleaning and preparing the tweets by breaking them down into individual words and creating a vocabulary of all the unique words. Then, each tweet is represented as a feature vector using the BoW model, which counts the frequency of each word in the vocabulary and assigns it a numerical value. This allows for easier analysis and categorization of the tweets based on their content."
   ]
  },
  {
   "cell_type": "code",
   "execution_count": 28,
   "id": "559f1dce",
   "metadata": {},
   "outputs": [
    {
     "name": "stdout",
     "output_type": "stream",
     "text": [
      "Requirement already satisfied: pandas in c:\\users\\python\\lib\\site-packages (1.4.4)\n",
      "Requirement already satisfied: gensim in c:\\users\\python\\lib\\site-packages (4.1.2)\n",
      "Requirement already satisfied: scikit-learn in c:\\users\\python\\lib\\site-packages (1.0.2)\n",
      "Requirement already satisfied: torch in c:\\users\\python\\lib\\site-packages (2.0.0)\n",
      "Requirement already satisfied: python-dateutil>=2.8.1 in c:\\users\\python\\lib\\site-packages (from pandas) (2.8.2)\n",
      "Requirement already satisfied: pytz>=2020.1 in c:\\users\\python\\lib\\site-packages (from pandas) (2022.1)\n",
      "Requirement already satisfied: numpy>=1.18.5 in c:\\users\\python\\lib\\site-packages (from pandas) (1.23.2)\n",
      "Requirement already satisfied: scipy>=0.18.1 in c:\\users\\python\\lib\\site-packages (from gensim) (1.9.1)\n",
      "Requirement already satisfied: smart-open>=1.8.1 in c:\\users\\python\\lib\\site-packages (from gensim) (5.2.1)\n",
      "Requirement already satisfied: threadpoolctl>=2.0.0 in c:\\users\\python\\lib\\site-packages (from scikit-learn) (2.2.0)\n",
      "Requirement already satisfied: joblib>=0.11 in c:\\users\\python\\lib\\site-packages (from scikit-learn) (1.1.0)\n",
      "Requirement already satisfied: filelock in c:\\users\\python\\lib\\site-packages (from torch) (3.6.0)\n",
      "Requirement already satisfied: typing-extensions in c:\\users\\python\\lib\\site-packages (from torch) (4.3.0)\n",
      "Requirement already satisfied: sympy in c:\\users\\python\\lib\\site-packages (from torch) (1.10.1)\n",
      "Requirement already satisfied: jinja2 in c:\\users\\python\\lib\\site-packages (from torch) (2.11.3)\n",
      "Requirement already satisfied: networkx in c:\\users\\python\\lib\\site-packages (from torch) (2.8.4)\n",
      "Requirement already satisfied: six>=1.5 in c:\\users\\python\\lib\\site-packages (from python-dateutil>=2.8.1->pandas) (1.16.0)\n",
      "Requirement already satisfied: MarkupSafe>=0.23 in c:\\users\\python\\lib\\site-packages (from jinja2->torch) (2.0.1)\n",
      "Requirement already satisfied: mpmath>=0.19 in c:\\users\\python\\lib\\site-packages (from sympy->torch) (1.2.1)\n",
      "Note: you may need to restart the kernel to use updated packages.\n"
     ]
    },
    {
     "name": "stderr",
     "output_type": "stream",
     "text": [
      "\n",
      "[notice] A new release of pip is available: 23.0.1 -> 23.1.2\n",
      "[notice] To update, run: python.exe -m pip install --upgrade pip\n"
     ]
    }
   ],
   "source": [
    "pip install pandas gensim scikit-learn torch"
   ]
  },
  {
   "cell_type": "markdown",
   "id": "ccbecf0b",
   "metadata": {},
   "source": [
    "## Implementation:\n",
    "This code is implementing a simple neural network for sentiment classification of tweets using cross-validation. The steps can be summarized as follows:\n",
    "\n",
    "1) Import necessary libraries: pandas, gensim, scikit-learn, and torch are imported for data handling, word embeddings, splitting the data, and neural network implementation, respectively.\n",
    "\n",
    "2) Load and preprocess data: The tweet texts and corresponding sentiment labels are loaded from online sources and combined into a single DataFrame.\n",
    "\n",
    "3) Tokenize tweets and create Word2Vec model: The tweets are tokenized, and a Word2Vec model is trained on these tokens.\n",
    "\n",
    "4) Define a function to convert tweets into embeddings: This function takes a tweet and the trained Word2Vec model as inputs and returns an averaged word embedding for the tweet.\n",
    "\n",
    "5) Convert tweets into embeddings: Each tweet in the dataset is converted into an averaged word embedding using the Word2Vec model.\n",
    "\n",
    "6) Create a custom dataset class for the tweet embeddings and sentiment labels.\n",
    "\n",
    "7) Define a neural network model: A simple feedforward neural network is defined with an input layer, a hidden layer with 128 units and ReLU activation, and an output layer with 3 units representing the 3 sentiment classes.\n",
    "\n",
    "8) Define training and evaluation functions: These functions train the neural network model using the provided data and evaluate its performance by calculating a confusion matrix.\n",
    "\n",
    "9) Perform cross-validation: The data is split into 5 folds using KFold cross-validation, and for each fold, the model is trained on the training set and evaluated on the test set. The confusion matrix, accuracy, and F1 score are calculated and printed for each fold.\n",
    "\n",
    "10) Train and evaluate the model for each fold: For each fold, the model is trained for 50 epochs using a learning rate of 1e-4 and batch size of 16. The performance of the model is then evaluated on the test set, and the confusion matrix, accuracy, and F1 score are printed.\n",
    "\n",
    "The purpose of this code is to build and evaluate a simple neural network model for sentiment classification of tweets using word embeddings and cross-validation."
   ]
  },
  {
   "cell_type": "code",
   "execution_count": 29,
   "id": "6c58fb54",
   "metadata": {},
   "outputs": [],
   "source": [
    "import pandas as pd\n",
    "import numpy as np\n",
    "import torch\n",
    "from torch import nn\n",
    "from torch.utils.data import Dataset, DataLoader\n",
    "from gensim.models import Word2Vec\n",
    "from sklearn.model_selection import train_test_split, KFold\n",
    "from sklearn.metrics import confusion_matrix"
   ]
  },
  {
   "cell_type": "markdown",
   "id": "e62dc488",
   "metadata": {},
   "source": [
    "First we will load the data and preprocess it:"
   ]
  },
  {
   "cell_type": "code",
   "execution_count": 30,
   "id": "cfd39ba6",
   "metadata": {},
   "outputs": [],
   "source": [
    "# Load and preprocess data\n",
    "import pandas as pd\n",
    "import requests\n",
    "\n",
    "# Load tweet texts\n",
    "text_url = \"https://raw.githubusercontent.com/cardiffnlp/tweeteval/main/datasets/sentiment/train_text.txt\"\n",
    "response = requests.get(text_url)\n",
    "texts = [line.strip() for line in response.text.split('\\n') if line.strip()]\n",
    "\n",
    "# Load sentiment labels\n",
    "label_url = \"https://raw.githubusercontent.com/cardiffnlp/tweeteval/main/datasets/sentiment/train_labels.txt\"\n",
    "response = requests.get(label_url)\n",
    "labels = [int(line.strip()) for line in response.text.split('\\n') if line.strip()]\n",
    "\n",
    "# Combine texts and labels into a single DataFrame\n",
    "data = {'sentiment': labels, 'TweetText': texts}\n",
    "df = pd.DataFrame(data)\n",
    "\n",
    "#df = df[['sentiment', 'TweetText']]\n",
    "#label_map = {'positive': 0, 'neutral': 1, 'negative': 2}\n",
    "#df['sentiment'] = df['sentiment'].apply(lambda x: label_map[x])"
   ]
  },
  {
   "cell_type": "markdown",
   "id": "f43ba213",
   "metadata": {},
   "source": [
    "Next, we will create the Bag-of-Words representation of the tweets using CountVectorizer from sklearn:"
   ]
  },
  {
   "cell_type": "code",
   "execution_count": 31,
   "id": "f6d0a6d0",
   "metadata": {},
   "outputs": [],
   "source": [
    "# Tokenize tweets and create Word2Vec model\n",
    "tweets = [t.split() for t in df['TweetText']]\n",
    "word2vec_model = Word2Vec(sentences=tweets, vector_size=100, window=5, min_count=1, workers=4)\n",
    "\n",
    "def tweet_to_embedding(tweet, word2vec_model):\n",
    "    tokens = tweet.split()\n",
    "    embeddings = [word2vec_model.wv[token] for token in tokens if token in word2vec_model.wv]\n",
    "    if not embeddings:\n",
    "        return np.zeros(word2vec_model.vector_size)\n",
    "    return np.mean(embeddings, axis=0)\n",
    "\n",
    "X = np.array([tweet_to_embedding(tweet, word2vec_model) for tweet in df['TweetText']])\n",
    "y = df['sentiment'].values"
   ]
  },
  {
   "cell_type": "markdown",
   "id": "ed843378",
   "metadata": {},
   "source": [
    "Now, we will create the custom dataset class and DataLoader:"
   ]
  },
  {
   "cell_type": "code",
   "execution_count": 32,
   "id": "988fd584",
   "metadata": {},
   "outputs": [],
   "source": [
    "# Custom Dataset\n",
    "class TweetDataset(Dataset):\n",
    "    def __init__(self, X, y):\n",
    "        self.X = X\n",
    "        self.y = y\n",
    "\n",
    "    def __len__(self):\n",
    "        return len(self.X)\n",
    "\n",
    "    def __getitem__(self, idx):\n",
    "        x_sample = self.X[idx]\n",
    "        y_sample = self.y[idx]\n",
    "        return x_sample, y_sample"
   ]
  },
  {
   "cell_type": "markdown",
   "id": "42ef24b1",
   "metadata": {},
   "source": [
    "Lets define the neural network model for classification:"
   ]
  },
  {
   "cell_type": "code",
   "execution_count": 33,
   "id": "8d07f014",
   "metadata": {},
   "outputs": [],
   "source": [
    "# Neural network model\n",
    "class ClassifierModel(nn.Module):\n",
    "    def __init__(self, input_size):\n",
    "        super(ClassifierModel, self).__init__()\n",
    "        self.lin = nn.Sequential(\n",
    "            nn.Linear(input_size, 128),\n",
    "            nn.ReLU(),\n",
    "            nn.Linear(128, 3),\n",
    "        )\n",
    "\n",
    "    def forward(self, input: torch.Tensor) -> torch.Tensor:\n",
    "        return self.lin(input)"
   ]
  },
  {
   "cell_type": "markdown",
   "id": "3b9d90f9",
   "metadata": {},
   "source": [
    "Finally, we will train the classifier using the DataLoader:"
   ]
  },
  {
   "cell_type": "code",
   "execution_count": 34,
   "id": "b17cd014",
   "metadata": {},
   "outputs": [],
   "source": [
    "# Training and evaluation\n",
    "def train(model, data_loader, loss_fn, optimizer, device):\n",
    "    model.train()\n",
    "    for x_batch, y_batch in data_loader:\n",
    "        x_batch = x_batch.to(device)\n",
    "        y_batch = y_batch.to(device)\n",
    "        y_pred = model(x_batch)\n",
    "        loss = loss_fn(y_pred, y_batch)\n",
    "\n",
    "        optimizer.zero_grad()\n",
    "        loss.backward()\n",
    "        optimizer.step()"
   ]
  },
  {
   "cell_type": "code",
   "execution_count": 35,
   "id": "2d5a6f91",
   "metadata": {},
   "outputs": [],
   "source": [
    "def evaluate(model, data_loader, device):\n",
    "    model.eval()\n",
    "    y_true = []\n",
    "    y_pred = []\n",
    "    with torch.no_grad():\n",
    "        for x_batch, y_batch in data_loader:\n",
    "            x_batch = x_batch.to(device)\n",
    "            y_batch = y_batch.to(device)\n",
    "            output = model(x_batch)\n",
    "            _, predicted = torch.max(output, 1)\n",
    "            y_true.extend(y_batch.cpu().numpy())\n",
    "            y_pred.extend(predicted.cpu().numpy())\n",
    "    return confusion_matrix(y_true, y_pred)"
   ]
  },
  {
   "cell_type": "code",
   "execution_count": 36,
   "id": "da10ae0f",
   "metadata": {},
   "outputs": [
    {
     "name": "stdout",
     "output_type": "stream",
     "text": [
      "Fold 1/5 confusion matrix:\n",
      "[[  40  948  440]\n",
      " [  33 2842 1267]\n",
      " [  21 1453 2079]]\n",
      "Accuracy: 0.5438\n",
      "F1 Score: 0.5039\n",
      "\n",
      "Fold 2/5 confusion matrix:\n",
      "[[  62  984  383]\n",
      " [  48 2989 1048]\n",
      " [  20 1708 1881]]\n",
      "Accuracy: 0.5406\n",
      "F1 Score: 0.5016\n",
      "\n",
      "Fold 3/5 confusion matrix:\n",
      "[[  79 1021  335]\n",
      " [  68 3175  865]\n",
      " [  52 1885 1643]]\n",
      "Accuracy: 0.5368\n",
      "F1 Score: 0.4966\n",
      "\n",
      "Fold 4/5 confusion matrix:\n",
      "[[  58 1100  243]\n",
      " [  69 3356  734]\n",
      " [  39 2045 1479]]\n",
      "Accuracy: 0.5363\n",
      "F1 Score: 0.4903\n",
      "\n",
      "Fold 5/5 confusion matrix:\n",
      "[[  48  869  483]\n",
      " [  42 2809 1328]\n",
      " [  25 1478 2041]]\n",
      "Accuracy: 0.5369\n",
      "F1 Score: 0.4998\n",
      "\n"
     ]
    }
   ],
   "source": [
    "# Cross-validation\n",
    "num_folds = 5\n",
    "kf = KFold(n_splits=num_folds)\n",
    "\n",
    "device = torch.device(\"cuda\" if torch.cuda.is_available() else \"cpu\")\n",
    "\n",
    "for fold, (train_indices, test_indices) in enumerate(kf.split(X)):\n",
    "    X_train, X_test = X[train_indices], X[test_indices]\n",
    "    y_train, y_test = y[train_indices], y[test_indices]\n",
    "\n",
    "    train_dataset = TweetDataset(X_train, y_train)\n",
    "    test_dataset = TweetDataset(X_test, y_test)\n",
    "\n",
    "    train_loader = DataLoader(train_dataset, batch_size=16, shuffle=True)\n",
    "    test_loader = DataLoader(test_dataset, batch_size=16, shuffle=False)\n",
    "\n",
    "    input_size = word2vec_model.vector_size\n",
    "    model = ClassifierModel(input_size).to(device)\n",
    "    loss_fn = nn.CrossEntropyLoss()\n",
    "    optimizer = torch.optim.Adam(model.parameters(), lr=1e-4)\n",
    "\n",
    "    num_epochs = 50\n",
    "    for epoch in range(num_epochs):\n",
    "        train(model, train_loader, loss_fn, optimizer, device)\n",
    "\n",
    "    y_true = y_test\n",
    "    y_pred = []\n",
    "    for _, batch in enumerate(test_loader):\n",
    "        inputs, _ = batch\n",
    "        inputs = inputs.to(device)\n",
    "        outputs = model(inputs)\n",
    "        _, predicted = torch.max(outputs, 1)\n",
    "        y_pred.extend(predicted.cpu().numpy())\n",
    "    \n",
    "    accuracy = accuracy_score(y_true, y_pred)\n",
    "    f1 = f1_score(y_true, y_pred, average='weighted')\n",
    "    cm = confusion_matrix(y_true, y_pred)\n",
    "\n",
    "    print(f\"Fold {fold+1}/{num_folds} confusion matrix:\")\n",
    "    print(cm)\n",
    "    print(f\"Accuracy: {accuracy:.4f}\")\n",
    "    print(f\"F1 Score: {f1:.4f}\")\n",
    "    print()\n"
   ]
  },
  {
   "cell_type": "markdown",
   "id": "9fdc6949",
   "metadata": {},
   "source": [
    "## Output :\n",
    "This output shows a breakdown of the performance of a machine learning model for sentiment classification. The model was trained on a dataset divided into five parts, with each part being used as a test set once while the other four were used as training sets. The confusion matrix for each fold shows how well the model performed in predicting the sentiment of the test data, comparing its predictions with the actual sentiment labels. The three sentiment categories used were negative, neutral, and positive. Overall, the confusion matrix helps evaluate the model's accuracy, precision, and recall for each sentiment class. \n",
    "The table above shows the comparison between the actual and predicted class labels, where each row represents the true class and each column represents the predicted class.\n",
    "\n",
    "For example, in the first fold, the output confusion matrix interprets the following: \n",
    "    a) 40 negative tweets were correctly classified, 948 were misclassified as neutral, and 440 as positive.\n",
    "    b) 33 neutral tweets were misclassified as negative, 2842 were correctly classified, and 1267 were misclassified as positive.\n",
    "    c) 21 positive tweets were misclassified as negative, 1453 were misclassified as neutral, and 2079 were correctly classified.\n",
    "A high number of correct predictions along the diagonal of the confusion matrix and low numbers in the off-diagonal elements indicate a good classifier. The current confusion matrices show that the model seems to perform well for class 1 (neutral) but has a more challenging time with class 0 (negative) and class 2 (positive).\n",
    "\n",
    "Accuracy: 0.5438\n",
    "The accuracy is the ratio of the correctly classified instances to the total instances in the test set. An accuracy of 0.5438 means that 54.38% of the instances in the test set were correctly classified by the model in the first fold.\n",
    "\n",
    "F1 Score: 0.5039\n",
    "The F1 score is the harmonic mean of precision and recall, and it is a measure that takes both false positives and false negatives into account. The F1 score ranges from 0 to 1, with 1 being the best possible score. An F1 score of 0.5039 indicates that the model has moderate performance in balancing precision and recall for this specific fold.\n"
   ]
  },
  {
   "cell_type": "markdown",
   "id": "45214c86",
   "metadata": {},
   "source": [
    "## Conclusion:\n",
    "This method involves utilizing a basic Bag-of-Words model to convert the tweets into numerical features, and implementing a neural network for classification. The Bag-of-Words model involves representing each tweet as a frequency count of the words in the vocabulary, while the neural network analyzes these numerical features to classify the tweets into predefined categories. By combining these two techniques, the model can effectively analyze and categorize tweets based on their content.\n",
    "The performance of the model depends on the performance of all the folds. The model's performance is slightly better than random guessing for a three-class classification problem. It shows that the model has some predictive ability, but there is significant room for improvement. It is essential to look into possible improvements to the model, such as using a more sophisticated architecture, better pre-processing of the input data, or leveraging additional features to enhance the performance of the model. "
   ]
  }
 ],
 "metadata": {
  "kernelspec": {
   "display_name": "Python 3 (ipykernel)",
   "language": "python",
   "name": "python3"
  },
  "language_info": {
   "codemirror_mode": {
    "name": "ipython",
    "version": 3
   },
   "file_extension": ".py",
   "mimetype": "text/x-python",
   "name": "python",
   "nbconvert_exporter": "python",
   "pygments_lexer": "ipython3",
   "version": "3.9.13"
  }
 },
 "nbformat": 4,
 "nbformat_minor": 5
}
